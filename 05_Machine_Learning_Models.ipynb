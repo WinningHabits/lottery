{
  "nbformat": 4,
  "nbformat_minor": 0,
  "metadata": {
    "colab": {
      "provenance": [],
      "authorship_tag": "ABX9TyP4jEmGp+VumMUxlXRPNeMP",
      "include_colab_link": true
    },
    "kernelspec": {
      "name": "python3",
      "display_name": "Python 3"
    },
    "language_info": {
      "name": "python"
    }
  },
  "cells": [
    {
      "cell_type": "markdown",
      "metadata": {
        "id": "view-in-github",
        "colab_type": "text"
      },
      "source": [
        "<a href=\"https://colab.research.google.com/github/WinningHabits/lottery/blob/main/05_Machine_Learning_Models.ipynb\" target=\"_parent\"><img src=\"https://colab.research.google.com/assets/colab-badge.svg\" alt=\"Open In Colab\"/></a>"
      ]
    },
    {
      "cell_type": "code",
      "execution_count": 1,
      "metadata": {
        "id": "dUHmidJw_dKL"
      },
      "outputs": [],
      "source": [
        "import pandas as pd\n",
        "import numpy as np\n",
        "import matplotlib.pyplot as plt\n",
        "from sklearn.model_selection import train_test_split\n",
        "from sklearn.preprocessing import StandardScaler\n",
        "from sklearn.ensemble import RandomForestRegressor\n",
        "from sklearn.metrics import mean_squared_error\n",
        "import tensorflow as tf\n",
        "from tensorflow import keras\n"
      ]
    },
    {
      "cell_type": "code",
      "source": [
        "import pandas as pd\n",
        "import numpy as np\n",
        "import matplotlib.pyplot as plt\n",
        "import seaborn as sns\n",
        "\n",
        "data = pd.read_excel('https://raw.githubusercontent.com/WinningHabits/lottery_dataset/main/lottery-toto_upto_08.23_revised_1.xlsx')\n"
      ],
      "metadata": {
        "id": "DMh_VlOh2noj"
      },
      "execution_count": 2,
      "outputs": []
    },
    {
      "cell_type": "code",
      "source": [
        "X = data.drop(columns=['Date by Month', 'Draw number 1', 'Draw number 2', 'Draw number 3', 'Draw number 4', 'Draw number 5', 'Draw number 6', 'Additional Number'])\n",
        "y = data[['Draw number 1', 'Draw number 2', 'Draw number 3', 'Draw number 4', 'Draw number 5', 'Draw number 6', 'Additional Number']]\n"
      ],
      "metadata": {
        "id": "9F-4pC1A6dQq"
      },
      "execution_count": 4,
      "outputs": []
    },
    {
      "cell_type": "code",
      "source": [
        "from sklearn.model_selection import train_test_split\n",
        "\n",
        "# Splitting the data into training and testing sets (80% train, 20% test)\n",
        "X_train, X_test, y_train, y_test = train_test_split(X, y, test_size=0.2, random_state=42)\n"
      ],
      "metadata": {
        "id": "3cLErSRJ66gT"
      },
      "execution_count": 6,
      "outputs": []
    },
    {
      "cell_type": "code",
      "source": [
        "model_rf = RandomForestRegressor(n_estimators=100, random_state=42)\n",
        "model_rf.fit(X_train, y_train)\n",
        "predictions_rf = model_rf.predict(X_test)\n",
        "mse_rf = mean_squared_error(y_test, predictions_rf)\n",
        "print(f\"Random Forest MSE: {mse_rf}\")\n"
      ],
      "metadata": {
        "colab": {
          "base_uri": "https://localhost:8080/"
        },
        "id": "BFsgW4Ki68st",
        "outputId": "a003d887-f887-48b6-bcf6-9ca34ffc8239"
      },
      "execution_count": 7,
      "outputs": [
        {
          "output_type": "stream",
          "name": "stdout",
          "text": [
            "Random Forest MSE: 69.40803181104464\n"
          ]
        }
      ]
    },
    {
      "cell_type": "code",
      "source": [
        "model_nn = keras.Sequential([\n",
        "    keras.layers.Dense(16, activation='relu', input_shape=(X_train.shape[1],)),\n",
        "    keras.layers.Dense(16, activation='relu'),\n",
        "    keras.layers.Dense(y_train.shape[1])\n",
        "])\n",
        "\n",
        "model_nn.compile(optimizer='adam', loss='mse')\n",
        "history = model_nn.fit(X_train, y_train, epochs=50, validation_data=(X_test, y_test))\n"
      ],
      "metadata": {
        "colab": {
          "base_uri": "https://localhost:8080/"
        },
        "id": "ziO3k-L-7FyL",
        "outputId": "7c182e2f-064a-4ecd-a7fa-27fcc25e1566"
      },
      "execution_count": 8,
      "outputs": [
        {
          "output_type": "stream",
          "name": "stdout",
          "text": [
            "Epoch 1/50\n",
            "2/2 [==============================] - 1s 236ms/step - loss: 868.0021 - val_loss: 859.9603\n",
            "Epoch 2/50\n",
            "2/2 [==============================] - 0s 34ms/step - loss: 862.5535 - val_loss: 854.6713\n",
            "Epoch 3/50\n",
            "2/2 [==============================] - 0s 36ms/step - loss: 857.2375 - val_loss: 849.3904\n",
            "Epoch 4/50\n",
            "2/2 [==============================] - 0s 32ms/step - loss: 851.9915 - val_loss: 844.1503\n",
            "Epoch 5/50\n",
            "2/2 [==============================] - 0s 32ms/step - loss: 846.3800 - val_loss: 838.9591\n",
            "Epoch 6/50\n",
            "2/2 [==============================] - 0s 31ms/step - loss: 841.1783 - val_loss: 833.7640\n",
            "Epoch 7/50\n",
            "2/2 [==============================] - 0s 31ms/step - loss: 835.9104 - val_loss: 828.5667\n",
            "Epoch 8/50\n",
            "2/2 [==============================] - 0s 37ms/step - loss: 830.4068 - val_loss: 823.2255\n",
            "Epoch 9/50\n",
            "2/2 [==============================] - 0s 37ms/step - loss: 824.7921 - val_loss: 817.7728\n",
            "Epoch 10/50\n",
            "2/2 [==============================] - 0s 33ms/step - loss: 819.1406 - val_loss: 812.2581\n",
            "Epoch 11/50\n",
            "2/2 [==============================] - 0s 35ms/step - loss: 813.9393 - val_loss: 806.6946\n",
            "Epoch 12/50\n",
            "2/2 [==============================] - 0s 32ms/step - loss: 807.7040 - val_loss: 801.1771\n",
            "Epoch 13/50\n",
            "2/2 [==============================] - 0s 32ms/step - loss: 802.0778 - val_loss: 795.5917\n",
            "Epoch 14/50\n",
            "2/2 [==============================] - 0s 32ms/step - loss: 796.5702 - val_loss: 789.9479\n",
            "Epoch 15/50\n",
            "2/2 [==============================] - 0s 35ms/step - loss: 790.6389 - val_loss: 784.2966\n",
            "Epoch 16/50\n",
            "2/2 [==============================] - 0s 32ms/step - loss: 784.6334 - val_loss: 778.6163\n",
            "Epoch 17/50\n",
            "2/2 [==============================] - 0s 32ms/step - loss: 778.8998 - val_loss: 772.8640\n",
            "Epoch 18/50\n",
            "2/2 [==============================] - 0s 32ms/step - loss: 772.8874 - val_loss: 767.1335\n",
            "Epoch 19/50\n",
            "2/2 [==============================] - 0s 37ms/step - loss: 767.2573 - val_loss: 761.4263\n",
            "Epoch 20/50\n",
            "2/2 [==============================] - 0s 33ms/step - loss: 761.1655 - val_loss: 755.7910\n",
            "Epoch 21/50\n",
            "2/2 [==============================] - 0s 58ms/step - loss: 755.3381 - val_loss: 750.2430\n",
            "Epoch 22/50\n",
            "2/2 [==============================] - 0s 32ms/step - loss: 749.5325 - val_loss: 744.6357\n",
            "Epoch 23/50\n",
            "2/2 [==============================] - 0s 37ms/step - loss: 743.7474 - val_loss: 738.9320\n",
            "Epoch 24/50\n",
            "2/2 [==============================] - 0s 49ms/step - loss: 738.0628 - val_loss: 733.1310\n",
            "Epoch 25/50\n",
            "2/2 [==============================] - 0s 32ms/step - loss: 731.7669 - val_loss: 727.2285\n",
            "Epoch 26/50\n",
            "2/2 [==============================] - 0s 32ms/step - loss: 725.7158 - val_loss: 721.1505\n",
            "Epoch 27/50\n",
            "2/2 [==============================] - 0s 32ms/step - loss: 719.4280 - val_loss: 714.9600\n",
            "Epoch 28/50\n",
            "2/2 [==============================] - 0s 31ms/step - loss: 713.2042 - val_loss: 708.6747\n",
            "Epoch 29/50\n",
            "2/2 [==============================] - 0s 32ms/step - loss: 706.6464 - val_loss: 702.3168\n",
            "Epoch 30/50\n",
            "2/2 [==============================] - 0s 33ms/step - loss: 699.9648 - val_loss: 695.8929\n",
            "Epoch 31/50\n",
            "2/2 [==============================] - 0s 32ms/step - loss: 693.4912 - val_loss: 689.4100\n",
            "Epoch 32/50\n",
            "2/2 [==============================] - 0s 52ms/step - loss: 686.7552 - val_loss: 682.8580\n",
            "Epoch 33/50\n",
            "2/2 [==============================] - 0s 37ms/step - loss: 680.2125 - val_loss: 676.1946\n",
            "Epoch 34/50\n",
            "2/2 [==============================] - 0s 35ms/step - loss: 673.3311 - val_loss: 669.4587\n",
            "Epoch 35/50\n",
            "2/2 [==============================] - 0s 32ms/step - loss: 666.4850 - val_loss: 662.6281\n",
            "Epoch 36/50\n",
            "2/2 [==============================] - 0s 31ms/step - loss: 659.7997 - val_loss: 655.7038\n",
            "Epoch 37/50\n",
            "2/2 [==============================] - 0s 34ms/step - loss: 652.5940 - val_loss: 648.7494\n",
            "Epoch 38/50\n",
            "2/2 [==============================] - 0s 32ms/step - loss: 645.6342 - val_loss: 641.7153\n",
            "Epoch 39/50\n",
            "2/2 [==============================] - 0s 49ms/step - loss: 638.3044 - val_loss: 634.6329\n",
            "Epoch 40/50\n",
            "2/2 [==============================] - 0s 34ms/step - loss: 631.3756 - val_loss: 627.4448\n",
            "Epoch 41/50\n",
            "2/2 [==============================] - 0s 31ms/step - loss: 623.9181 - val_loss: 620.2146\n",
            "Epoch 42/50\n",
            "2/2 [==============================] - 0s 33ms/step - loss: 616.7675 - val_loss: 612.8933\n",
            "Epoch 43/50\n",
            "2/2 [==============================] - 0s 38ms/step - loss: 609.7343 - val_loss: 605.5001\n",
            "Epoch 44/50\n",
            "2/2 [==============================] - 0s 35ms/step - loss: 601.8754 - val_loss: 598.1262\n",
            "Epoch 45/50\n",
            "2/2 [==============================] - 0s 31ms/step - loss: 594.7300 - val_loss: 590.6476\n",
            "Epoch 46/50\n",
            "2/2 [==============================] - 0s 33ms/step - loss: 587.4156 - val_loss: 583.1201\n",
            "Epoch 47/50\n",
            "2/2 [==============================] - 0s 41ms/step - loss: 579.8940 - val_loss: 575.5749\n",
            "Epoch 48/50\n",
            "2/2 [==============================] - 0s 34ms/step - loss: 572.4540 - val_loss: 568.0009\n",
            "Epoch 49/50\n",
            "2/2 [==============================] - 0s 33ms/step - loss: 565.2389 - val_loss: 560.3987\n",
            "Epoch 50/50\n",
            "2/2 [==============================] - 0s 31ms/step - loss: 557.7015 - val_loss: 552.8275\n"
          ]
        }
      ]
    },
    {
      "cell_type": "code",
      "source": [
        "plt.plot(history.history['loss'], label='Training Loss')\n",
        "plt.plot(history.history['val_loss'], label='Validation Loss')\n",
        "plt.legend()\n",
        "plt.show()\n"
      ],
      "metadata": {
        "colab": {
          "base_uri": "https://localhost:8080/",
          "height": 430
        },
        "id": "DUUYuPwn7KuG",
        "outputId": "1e290502-11df-4f78-f350-078f2251cbaa"
      },
      "execution_count": 9,
      "outputs": [
        {
          "output_type": "display_data",
          "data": {
            "text/plain": [
              "<Figure size 640x480 with 1 Axes>"
            ],
            "image/png": "[encoded data removed]"
          },
          "metadata": {}
        }
      ]
    },
    {
      "cell_type": "code",
      "source": [
        "# Assuming your data is in the DataFrame `data` and you have split it into training and testing sets\n",
        "\n",
        "# Let's try to predict if the number \"1\" will be drawn in the next draw\n",
        "y_train_1 = y_train.apply(lambda x: 1 if 1 in x.values else 0, axis=1)\n",
        "y_test_1 = y_test.apply(lambda x: 1 if 1 in x.values else 0, axis=1)\n",
        "\n",
        "svm_classifier = SVC()\n",
        "svm_classifier.fit(X_train, y_train_1)\n",
        "\n",
        "y_pred = svm_classifier.predict(X_test)\n",
        "\n",
        "print(classification_report(y_test_1, y_pred))\n"
      ],
      "metadata": {
        "colab": {
          "base_uri": "https://localhost:8080/"
        },
        "id": "sPM_Kolh9Plk",
        "outputId": "d067187e-1d5c-424b-f409-a36671e35a44"
      },
      "execution_count": 11,
      "outputs": [
        {
          "output_type": "stream",
          "name": "stdout",
          "text": [
            "              precision    recall  f1-score   support\n",
            "\n",
            "           0       1.00      1.00      1.00        13\n",
            "\n",
            "    accuracy                           1.00        13\n",
            "   macro avg       1.00      1.00      1.00        13\n",
            "weighted avg       1.00      1.00      1.00        13\n",
            "\n"
          ]
        }
      ]
    },
    {
      "cell_type": "code",
      "source": [
        "from sklearn.neighbors import KNeighborsClassifier\n",
        "\n",
        "# Example for predicting \"Draw number 1\"\n",
        "y_train_draw1 = y_train['Draw number 1']\n",
        "y_test_draw1 = y_test['Draw number 1']\n",
        "\n",
        "knn_classifier = KNeighborsClassifier(n_neighbors=5)  # You can adjust the number of neighbors\n",
        "knn_classifier.fit(X_train, y_train_draw1)\n",
        "\n",
        "y_pred_draw1 = knn_classifier.predict(X_test)\n",
        "\n",
        "print(classification_report(y_test_draw1, y_pred_draw1))\n"
      ],
      "metadata": {
        "colab": {
          "base_uri": "https://localhost:8080/"
        },
        "id": "adp71aT39-Xo",
        "outputId": "dca848da-72f7-4242-9e77-7752e862745f"
      },
      "execution_count": 13,
      "outputs": [
        {
          "output_type": "stream",
          "name": "stdout",
          "text": [
            "              precision    recall  f1-score   support\n",
            "\n",
            "           1       0.00      0.00      0.00         0\n",
            "           2       0.50      0.50      0.50         2\n",
            "           3       0.50      1.00      0.67         1\n",
            "           4       0.00      0.00      0.00         1\n",
            "           5       0.25      0.50      0.33         2\n",
            "           6       0.00      0.00      0.00         1\n",
            "          11       0.00      0.00      0.00         1\n",
            "          12       0.00      0.00      0.00         1\n",
            "          13       0.00      0.00      0.00         0\n",
            "          15       0.00      0.00      0.00         1\n",
            "          19       0.00      0.00      0.00         1\n",
            "          22       0.00      0.00      0.00         2\n",
            "\n",
            "    accuracy                           0.23        13\n",
            "   macro avg       0.10      0.17      0.12        13\n",
            "weighted avg       0.15      0.23      0.18        13\n",
            "\n"
          ]
        },
        {
          "output_type": "stream",
          "name": "stderr",
          "text": [
            "/usr/local/lib/python3.10/dist-packages/sklearn/metrics/_classification.py:1344: UndefinedMetricWarning: Precision and F-score are ill-defined and being set to 0.0 in labels with no predicted samples. Use `zero_division` parameter to control this behavior.\n",
            "  _warn_prf(average, modifier, msg_start, len(result))\n",
            "/usr/local/lib/python3.10/dist-packages/sklearn/metrics/_classification.py:1344: UndefinedMetricWarning: Recall and F-score are ill-defined and being set to 0.0 in labels with no true samples. Use `zero_division` parameter to control this behavior.\n",
            "  _warn_prf(average, modifier, msg_start, len(result))\n",
            "/usr/local/lib/python3.10/dist-packages/sklearn/metrics/_classification.py:1344: UndefinedMetricWarning: Precision and F-score are ill-defined and being set to 0.0 in labels with no predicted samples. Use `zero_division` parameter to control this behavior.\n",
            "  _warn_prf(average, modifier, msg_start, len(result))\n",
            "/usr/local/lib/python3.10/dist-packages/sklearn/metrics/_classification.py:1344: UndefinedMetricWarning: Recall and F-score are ill-defined and being set to 0.0 in labels with no true samples. Use `zero_division` parameter to control this behavior.\n",
            "  _warn_prf(average, modifier, msg_start, len(result))\n",
            "/usr/local/lib/python3.10/dist-packages/sklearn/metrics/_classification.py:1344: UndefinedMetricWarning: Precision and F-score are ill-defined and being set to 0.0 in labels with no predicted samples. Use `zero_division` parameter to control this behavior.\n",
            "  _warn_prf(average, modifier, msg_start, len(result))\n",
            "/usr/local/lib/python3.10/dist-packages/sklearn/metrics/_classification.py:1344: UndefinedMetricWarning: Recall and F-score are ill-defined and being set to 0.0 in labels with no true samples. Use `zero_division` parameter to control this behavior.\n",
            "  _warn_prf(average, modifier, msg_start, len(result))\n"
          ]
        }
      ]
    },
    {
      "cell_type": "code",
      "source": [
        "from sklearn.neighbors import KNeighborsClassifier\n",
        "\n",
        "# Example for predicting \"Draw number 2\"\n",
        "y_train_draw1 = y_train['Draw number 2']\n",
        "y_test_draw1 = y_test['Draw number 2']\n",
        "\n",
        "knn_classifier = KNeighborsClassifier(n_neighbors=5)  # You can adjust the number of neighbors\n",
        "knn_classifier.fit(X_train, y_train_draw1)\n",
        "\n",
        "y_pred_draw1 = knn_classifier.predict(X_test)\n",
        "\n",
        "print(classification_report(y_test_draw1, y_pred_draw1))\n"
      ],
      "metadata": {
        "colab": {
          "base_uri": "https://localhost:8080/"
        },
        "id": "VCy_Ztum-DHh",
        "outputId": "d7d46f8d-658e-49ae-f073-d218342af38a"
      },
      "execution_count": 14,
      "outputs": [
        {
          "output_type": "stream",
          "name": "stdout",
          "text": [
            "              precision    recall  f1-score   support\n",
            "\n",
            "           3       0.00      0.00      0.00       0.0\n",
            "           5       0.00      0.00      0.00       0.0\n",
            "           6       0.00      0.00      0.00       0.0\n",
            "           8       0.00      0.00      0.00       2.0\n",
            "           9       0.00      0.00      0.00       0.0\n",
            "          10       0.00      0.00      0.00       2.0\n",
            "          13       0.00      0.00      0.00       1.0\n",
            "          14       0.00      0.00      0.00       1.0\n",
            "          15       0.00      0.00      0.00       1.0\n",
            "          21       0.00      0.00      0.00       0.0\n",
            "          22       0.00      0.00      0.00       3.0\n",
            "          25       0.00      0.00      0.00       1.0\n",
            "          26       0.00      0.00      0.00       1.0\n",
            "          30       0.00      0.00      0.00       1.0\n",
            "\n",
            "    accuracy                           0.00      13.0\n",
            "   macro avg       0.00      0.00      0.00      13.0\n",
            "weighted avg       0.00      0.00      0.00      13.0\n",
            "\n"
          ]
        },
        {
          "output_type": "stream",
          "name": "stderr",
          "text": [
            "/usr/local/lib/python3.10/dist-packages/sklearn/metrics/_classification.py:1344: UndefinedMetricWarning: Precision and F-score are ill-defined and being set to 0.0 in labels with no predicted samples. Use `zero_division` parameter to control this behavior.\n",
            "  _warn_prf(average, modifier, msg_start, len(result))\n",
            "/usr/local/lib/python3.10/dist-packages/sklearn/metrics/_classification.py:1344: UndefinedMetricWarning: Recall and F-score are ill-defined and being set to 0.0 in labels with no true samples. Use `zero_division` parameter to control this behavior.\n",
            "  _warn_prf(average, modifier, msg_start, len(result))\n",
            "/usr/local/lib/python3.10/dist-packages/sklearn/metrics/_classification.py:1344: UndefinedMetricWarning: Precision and F-score are ill-defined and being set to 0.0 in labels with no predicted samples. Use `zero_division` parameter to control this behavior.\n",
            "  _warn_prf(average, modifier, msg_start, len(result))\n",
            "/usr/local/lib/python3.10/dist-packages/sklearn/metrics/_classification.py:1344: UndefinedMetricWarning: Recall and F-score are ill-defined and being set to 0.0 in labels with no true samples. Use `zero_division` parameter to control this behavior.\n",
            "  _warn_prf(average, modifier, msg_start, len(result))\n",
            "/usr/local/lib/python3.10/dist-packages/sklearn/metrics/_classification.py:1344: UndefinedMetricWarning: Precision and F-score are ill-defined and being set to 0.0 in labels with no predicted samples. Use `zero_division` parameter to control this behavior.\n",
            "  _warn_prf(average, modifier, msg_start, len(result))\n",
            "/usr/local/lib/python3.10/dist-packages/sklearn/metrics/_classification.py:1344: UndefinedMetricWarning: Recall and F-score are ill-defined and being set to 0.0 in labels with no true samples. Use `zero_division` parameter to control this behavior.\n",
            "  _warn_prf(average, modifier, msg_start, len(result))\n"
          ]
        }
      ]
    },
    {
      "cell_type": "code",
      "source": [
        "from sklearn.neighbors import KNeighborsClassifier\n",
        "\n",
        "# Example for predicting \"Draw number 3\"\n",
        "y_train_draw1 = y_train['Draw number 3']\n",
        "y_test_draw1 = y_test['Draw number 3']\n",
        "\n",
        "knn_classifier = KNeighborsClassifier(n_neighbors=5)  # You can adjust the number of neighbors\n",
        "knn_classifier.fit(X_train, y_train_draw1)\n",
        "\n",
        "y_pred_draw1 = knn_classifier.predict(X_test)\n",
        "\n",
        "print(classification_report(y_test_draw1, y_pred_draw1))\n"
      ],
      "metadata": {
        "colab": {
          "base_uri": "https://localhost:8080/"
        },
        "id": "84aAgj7b-IrS",
        "outputId": "c5d3baa1-dcf7-461f-ec8d-3b579629536f"
      },
      "execution_count": 15,
      "outputs": [
        {
          "output_type": "stream",
          "name": "stdout",
          "text": [
            "              precision    recall  f1-score   support\n",
            "\n",
            "          12       0.00      0.00      0.00         0\n",
            "          14       0.00      0.00      0.00         0\n",
            "          15       0.25      1.00      0.40         1\n",
            "          16       0.50      1.00      0.67         1\n",
            "          18       0.00      0.00      0.00         1\n",
            "          21       0.00      0.00      0.00         1\n",
            "          23       0.00      0.00      0.00         0\n",
            "          24       0.00      0.00      0.00         1\n",
            "          27       0.00      0.00      0.00         1\n",
            "          28       0.00      0.00      0.00         1\n",
            "          29       0.00      0.00      0.00         1\n",
            "          30       0.00      0.00      0.00         3\n",
            "          31       0.00      0.00      0.00         1\n",
            "          32       0.00      0.00      0.00         1\n",
            "          35       0.00      0.00      0.00         0\n",
            "\n",
            "    accuracy                           0.15        13\n",
            "   macro avg       0.05      0.13      0.07        13\n",
            "weighted avg       0.06      0.15      0.08        13\n",
            "\n"
          ]
        },
        {
          "output_type": "stream",
          "name": "stderr",
          "text": [
            "/usr/local/lib/python3.10/dist-packages/sklearn/metrics/_classification.py:1344: UndefinedMetricWarning: Precision and F-score are ill-defined and being set to 0.0 in labels with no predicted samples. Use `zero_division` parameter to control this behavior.\n",
            "  _warn_prf(average, modifier, msg_start, len(result))\n",
            "/usr/local/lib/python3.10/dist-packages/sklearn/metrics/_classification.py:1344: UndefinedMetricWarning: Recall and F-score are ill-defined and being set to 0.0 in labels with no true samples. Use `zero_division` parameter to control this behavior.\n",
            "  _warn_prf(average, modifier, msg_start, len(result))\n",
            "/usr/local/lib/python3.10/dist-packages/sklearn/metrics/_classification.py:1344: UndefinedMetricWarning: Precision and F-score are ill-defined and being set to 0.0 in labels with no predicted samples. Use `zero_division` parameter to control this behavior.\n",
            "  _warn_prf(average, modifier, msg_start, len(result))\n",
            "/usr/local/lib/python3.10/dist-packages/sklearn/metrics/_classification.py:1344: UndefinedMetricWarning: Recall and F-score are ill-defined and being set to 0.0 in labels with no true samples. Use `zero_division` parameter to control this behavior.\n",
            "  _warn_prf(average, modifier, msg_start, len(result))\n",
            "/usr/local/lib/python3.10/dist-packages/sklearn/metrics/_classification.py:1344: UndefinedMetricWarning: Precision and F-score are ill-defined and being set to 0.0 in labels with no predicted samples. Use `zero_division` parameter to control this behavior.\n",
            "  _warn_prf(average, modifier, msg_start, len(result))\n",
            "/usr/local/lib/python3.10/dist-packages/sklearn/metrics/_classification.py:1344: UndefinedMetricWarning: Recall and F-score are ill-defined and being set to 0.0 in labels with no true samples. Use `zero_division` parameter to control this behavior.\n",
            "  _warn_prf(average, modifier, msg_start, len(result))\n"
          ]
        }
      ]
    },
    {
      "cell_type": "code",
      "source": [
        "from sklearn.neighbors import KNeighborsClassifier\n",
        "\n",
        "# Example for predicting \"Draw number 4\"\n",
        "y_train_draw1 = y_train['Draw number 4']\n",
        "y_test_draw1 = y_test['Draw number 4']\n",
        "\n",
        "knn_classifier = KNeighborsClassifier(n_neighbors=5)  # You can adjust the number of neighbors\n",
        "knn_classifier.fit(X_train, y_train_draw1)\n",
        "\n",
        "y_pred_draw1 = knn_classifier.predict(X_test)\n",
        "\n",
        "print(classification_report(y_test_draw1, y_pred_draw1))\n"
      ],
      "metadata": {
        "colab": {
          "base_uri": "https://localhost:8080/"
        },
        "id": "GowQZwtM-PAN",
        "outputId": "29188ae4-062c-45b5-fa7d-0e96778c2ad8"
      },
      "execution_count": 16,
      "outputs": [
        {
          "output_type": "stream",
          "name": "stdout",
          "text": [
            "              precision    recall  f1-score   support\n",
            "\n",
            "          11       0.00      0.00      0.00       0.0\n",
            "          18       0.00      0.00      0.00       0.0\n",
            "          19       0.00      0.00      0.00       1.0\n",
            "          20       0.00      0.00      0.00       0.0\n",
            "          24       0.00      0.00      0.00       1.0\n",
            "          25       0.00      0.00      0.00       0.0\n",
            "          26       0.00      0.00      0.00       1.0\n",
            "          28       0.00      0.00      0.00       1.0\n",
            "          30       0.00      0.00      0.00       2.0\n",
            "          31       0.00      0.00      0.00       1.0\n",
            "          32       0.00      0.00      0.00       1.0\n",
            "          33       0.00      0.00      0.00       3.0\n",
            "          34       0.00      0.00      0.00       1.0\n",
            "          39       0.00      0.00      0.00       1.0\n",
            "          42       0.00      0.00      0.00       0.0\n",
            "\n",
            "    accuracy                           0.00      13.0\n",
            "   macro avg       0.00      0.00      0.00      13.0\n",
            "weighted avg       0.00      0.00      0.00      13.0\n",
            "\n"
          ]
        },
        {
          "output_type": "stream",
          "name": "stderr",
          "text": [
            "/usr/local/lib/python3.10/dist-packages/sklearn/metrics/_classification.py:1344: UndefinedMetricWarning: Precision and F-score are ill-defined and being set to 0.0 in labels with no predicted samples. Use `zero_division` parameter to control this behavior.\n",
            "  _warn_prf(average, modifier, msg_start, len(result))\n",
            "/usr/local/lib/python3.10/dist-packages/sklearn/metrics/_classification.py:1344: UndefinedMetricWarning: Recall and F-score are ill-defined and being set to 0.0 in labels with no true samples. Use `zero_division` parameter to control this behavior.\n",
            "  _warn_prf(average, modifier, msg_start, len(result))\n",
            "/usr/local/lib/python3.10/dist-packages/sklearn/metrics/_classification.py:1344: UndefinedMetricWarning: Precision and F-score are ill-defined and being set to 0.0 in labels with no predicted samples. Use `zero_division` parameter to control this behavior.\n",
            "  _warn_prf(average, modifier, msg_start, len(result))\n",
            "/usr/local/lib/python3.10/dist-packages/sklearn/metrics/_classification.py:1344: UndefinedMetricWarning: Recall and F-score are ill-defined and being set to 0.0 in labels with no true samples. Use `zero_division` parameter to control this behavior.\n",
            "  _warn_prf(average, modifier, msg_start, len(result))\n",
            "/usr/local/lib/python3.10/dist-packages/sklearn/metrics/_classification.py:1344: UndefinedMetricWarning: Precision and F-score are ill-defined and being set to 0.0 in labels with no predicted samples. Use `zero_division` parameter to control this behavior.\n",
            "  _warn_prf(average, modifier, msg_start, len(result))\n",
            "/usr/local/lib/python3.10/dist-packages/sklearn/metrics/_classification.py:1344: UndefinedMetricWarning: Recall and F-score are ill-defined and being set to 0.0 in labels with no true samples. Use `zero_division` parameter to control this behavior.\n",
            "  _warn_prf(average, modifier, msg_start, len(result))\n"
          ]
        }
      ]
    },
    {
      "cell_type": "code",
      "source": [
        "from sklearn.neighbors import KNeighborsClassifier\n",
        "\n",
        "# Example for predicting \"Draw number 5\"\n",
        "y_train_draw1 = y_train['Draw number 5']\n",
        "y_test_draw1 = y_test['Draw number 5']\n",
        "\n",
        "knn_classifier = KNeighborsClassifier(n_neighbors=5)  # You can adjust the number of neighbors\n",
        "knn_classifier.fit(X_train, y_train_draw1)\n",
        "\n",
        "y_pred_draw1 = knn_classifier.predict(X_test)\n",
        "\n",
        "print(classification_report(y_test_draw1, y_pred_draw1))\n"
      ],
      "metadata": {
        "colab": {
          "base_uri": "https://localhost:8080/"
        },
        "id": "-KBl-5oA-SvA",
        "outputId": "1d0be919-33c7-4512-9619-e67e0c1dfedf"
      },
      "execution_count": 17,
      "outputs": [
        {
          "output_type": "stream",
          "name": "stdout",
          "text": [
            "              precision    recall  f1-score   support\n",
            "\n",
            "          20       0.00      0.00      0.00         1\n",
            "          21       0.00      0.00      0.00         0\n",
            "          22       0.00      0.00      0.00         0\n",
            "          23       0.00      0.00      0.00         0\n",
            "          29       0.00      0.00      0.00         2\n",
            "          31       0.00      0.00      0.00         0\n",
            "          32       0.00      0.00      0.00         0\n",
            "          34       0.00      0.00      0.00         1\n",
            "          36       0.00      0.00      0.00         1\n",
            "          37       0.00      0.00      0.00         1\n",
            "          39       0.00      0.00      0.00         1\n",
            "          41       0.00      0.00      0.00         1\n",
            "          42       0.00      0.00      0.00         2\n",
            "          43       0.00      0.00      0.00         1\n",
            "          45       0.50      1.00      0.67         1\n",
            "          48       0.00      0.00      0.00         1\n",
            "\n",
            "    accuracy                           0.08        13\n",
            "   macro avg       0.03      0.06      0.04        13\n",
            "weighted avg       0.04      0.08      0.05        13\n",
            "\n"
          ]
        },
        {
          "output_type": "stream",
          "name": "stderr",
          "text": [
            "/usr/local/lib/python3.10/dist-packages/sklearn/metrics/_classification.py:1344: UndefinedMetricWarning: Precision and F-score are ill-defined and being set to 0.0 in labels with no predicted samples. Use `zero_division` parameter to control this behavior.\n",
            "  _warn_prf(average, modifier, msg_start, len(result))\n",
            "/usr/local/lib/python3.10/dist-packages/sklearn/metrics/_classification.py:1344: UndefinedMetricWarning: Recall and F-score are ill-defined and being set to 0.0 in labels with no true samples. Use `zero_division` parameter to control this behavior.\n",
            "  _warn_prf(average, modifier, msg_start, len(result))\n",
            "/usr/local/lib/python3.10/dist-packages/sklearn/metrics/_classification.py:1344: UndefinedMetricWarning: Precision and F-score are ill-defined and being set to 0.0 in labels with no predicted samples. Use `zero_division` parameter to control this behavior.\n",
            "  _warn_prf(average, modifier, msg_start, len(result))\n",
            "/usr/local/lib/python3.10/dist-packages/sklearn/metrics/_classification.py:1344: UndefinedMetricWarning: Recall and F-score are ill-defined and being set to 0.0 in labels with no true samples. Use `zero_division` parameter to control this behavior.\n",
            "  _warn_prf(average, modifier, msg_start, len(result))\n",
            "/usr/local/lib/python3.10/dist-packages/sklearn/metrics/_classification.py:1344: UndefinedMetricWarning: Precision and F-score are ill-defined and being set to 0.0 in labels with no predicted samples. Use `zero_division` parameter to control this behavior.\n",
            "  _warn_prf(average, modifier, msg_start, len(result))\n",
            "/usr/local/lib/python3.10/dist-packages/sklearn/metrics/_classification.py:1344: UndefinedMetricWarning: Recall and F-score are ill-defined and being set to 0.0 in labels with no true samples. Use `zero_division` parameter to control this behavior.\n",
            "  _warn_prf(average, modifier, msg_start, len(result))\n"
          ]
        }
      ]
    },
    {
      "cell_type": "code",
      "source": [
        "from sklearn.neighbors import KNeighborsClassifier\n",
        "\n",
        "# Example for predicting \"Draw number 6\"\n",
        "y_train_draw1 = y_train['Draw number 6']\n",
        "y_test_draw1 = y_test['Draw number 6']\n",
        "\n",
        "knn_classifier = KNeighborsClassifier(n_neighbors=5)  # You can adjust the number of neighbors\n",
        "knn_classifier.fit(X_train, y_train_draw1)\n",
        "\n",
        "y_pred_draw1 = knn_classifier.predict(X_test)\n",
        "\n",
        "print(classification_report(y_test_draw1, y_pred_draw1))\n"
      ],
      "metadata": {
        "colab": {
          "base_uri": "https://localhost:8080/"
        },
        "id": "ds4FbzyR-Xd6",
        "outputId": "f9ba50a6-0dce-4658-e5c7-e1fa2f7d6c56"
      },
      "execution_count": 18,
      "outputs": [
        {
          "output_type": "stream",
          "name": "stdout",
          "text": [
            "              precision    recall  f1-score   support\n",
            "\n",
            "          22       0.00      0.00      0.00       0.0\n",
            "          30       0.00      0.00      0.00       1.0\n",
            "          34       0.00      0.00      0.00       0.0\n",
            "          36       0.00      0.00      0.00       2.0\n",
            "          38       0.00      0.00      0.00       0.0\n",
            "          40       0.00      0.00      0.00       1.0\n",
            "          41       0.00      0.00      0.00       1.0\n",
            "          45       0.00      0.00      0.00       0.0\n",
            "          46       0.00      0.00      0.00       1.0\n",
            "          47       0.00      0.00      0.00       1.0\n",
            "          48       0.00      0.00      0.00       2.0\n",
            "          49       0.00      0.00      0.00       4.0\n",
            "\n",
            "    accuracy                           0.00      13.0\n",
            "   macro avg       0.00      0.00      0.00      13.0\n",
            "weighted avg       0.00      0.00      0.00      13.0\n",
            "\n"
          ]
        },
        {
          "output_type": "stream",
          "name": "stderr",
          "text": [
            "/usr/local/lib/python3.10/dist-packages/sklearn/metrics/_classification.py:1344: UndefinedMetricWarning: Precision and F-score are ill-defined and being set to 0.0 in labels with no predicted samples. Use `zero_division` parameter to control this behavior.\n",
            "  _warn_prf(average, modifier, msg_start, len(result))\n",
            "/usr/local/lib/python3.10/dist-packages/sklearn/metrics/_classification.py:1344: UndefinedMetricWarning: Recall and F-score are ill-defined and being set to 0.0 in labels with no true samples. Use `zero_division` parameter to control this behavior.\n",
            "  _warn_prf(average, modifier, msg_start, len(result))\n",
            "/usr/local/lib/python3.10/dist-packages/sklearn/metrics/_classification.py:1344: UndefinedMetricWarning: Precision and F-score are ill-defined and being set to 0.0 in labels with no predicted samples. Use `zero_division` parameter to control this behavior.\n",
            "  _warn_prf(average, modifier, msg_start, len(result))\n",
            "/usr/local/lib/python3.10/dist-packages/sklearn/metrics/_classification.py:1344: UndefinedMetricWarning: Recall and F-score are ill-defined and being set to 0.0 in labels with no true samples. Use `zero_division` parameter to control this behavior.\n",
            "  _warn_prf(average, modifier, msg_start, len(result))\n",
            "/usr/local/lib/python3.10/dist-packages/sklearn/metrics/_classification.py:1344: UndefinedMetricWarning: Precision and F-score are ill-defined and being set to 0.0 in labels with no predicted samples. Use `zero_division` parameter to control this behavior.\n",
            "  _warn_prf(average, modifier, msg_start, len(result))\n",
            "/usr/local/lib/python3.10/dist-packages/sklearn/metrics/_classification.py:1344: UndefinedMetricWarning: Recall and F-score are ill-defined and being set to 0.0 in labels with no true samples. Use `zero_division` parameter to control this behavior.\n",
            "  _warn_prf(average, modifier, msg_start, len(result))\n"
          ]
        }
      ]
    },
    {
      "cell_type": "code",
      "source": [
        "# Predicting \"Additional Number\"\n",
        "y_train_additional = y_train['Additional Number']\n",
        "y_test_additional = y_test['Additional Number']\n",
        "\n",
        "knn_classifier_additional = KNeighborsClassifier(n_neighbors=5)  # You can adjust the number of neighbors if needed\n",
        "knn_classifier_additional.fit(X_train, y_train_additional)\n",
        "\n",
        "y_pred_additional = knn_classifier_additional.predict(X_test)\n",
        "\n",
        "print(classification_report(y_test_additional, y_pred_additional))\n"
      ],
      "metadata": {
        "colab": {
          "base_uri": "https://localhost:8080/"
        },
        "id": "I2lIEtmF-riT",
        "outputId": "4288a06a-6e22-4ff8-d3b7-54bf0734093a"
      },
      "execution_count": 19,
      "outputs": [
        {
          "output_type": "stream",
          "name": "stdout",
          "text": [
            "              precision    recall  f1-score   support\n",
            "\n",
            "           1       0.00      0.00      0.00         0\n",
            "           2       0.00      0.00      0.00         0\n",
            "           3       0.00      0.00      0.00         1\n",
            "           5       0.00      0.00      0.00         1\n",
            "           7       0.00      0.00      0.00         1\n",
            "           8       0.00      0.00      0.00         1\n",
            "          10       0.00      0.00      0.00         0\n",
            "          12       0.50      1.00      0.67         1\n",
            "          16       0.00      0.00      0.00         1\n",
            "          20       0.00      0.00      0.00         2\n",
            "          24       0.00      0.00      0.00         1\n",
            "          25       0.00      0.00      0.00         1\n",
            "          28       0.00      0.00      0.00         1\n",
            "          34       0.00      0.00      0.00         1\n",
            "          37       0.00      0.00      0.00         0\n",
            "          46       0.00      0.00      0.00         1\n",
            "\n",
            "    accuracy                           0.08        13\n",
            "   macro avg       0.03      0.06      0.04        13\n",
            "weighted avg       0.04      0.08      0.05        13\n",
            "\n"
          ]
        },
        {
          "output_type": "stream",
          "name": "stderr",
          "text": [
            "/usr/local/lib/python3.10/dist-packages/sklearn/metrics/_classification.py:1344: UndefinedMetricWarning: Precision and F-score are ill-defined and being set to 0.0 in labels with no predicted samples. Use `zero_division` parameter to control this behavior.\n",
            "  _warn_prf(average, modifier, msg_start, len(result))\n",
            "/usr/local/lib/python3.10/dist-packages/sklearn/metrics/_classification.py:1344: UndefinedMetricWarning: Recall and F-score are ill-defined and being set to 0.0 in labels with no true samples. Use `zero_division` parameter to control this behavior.\n",
            "  _warn_prf(average, modifier, msg_start, len(result))\n",
            "/usr/local/lib/python3.10/dist-packages/sklearn/metrics/_classification.py:1344: UndefinedMetricWarning: Precision and F-score are ill-defined and being set to 0.0 in labels with no predicted samples. Use `zero_division` parameter to control this behavior.\n",
            "  _warn_prf(average, modifier, msg_start, len(result))\n",
            "/usr/local/lib/python3.10/dist-packages/sklearn/metrics/_classification.py:1344: UndefinedMetricWarning: Recall and F-score are ill-defined and being set to 0.0 in labels with no true samples. Use `zero_division` parameter to control this behavior.\n",
            "  _warn_prf(average, modifier, msg_start, len(result))\n",
            "/usr/local/lib/python3.10/dist-packages/sklearn/metrics/_classification.py:1344: UndefinedMetricWarning: Precision and F-score are ill-defined and being set to 0.0 in labels with no predicted samples. Use `zero_division` parameter to control this behavior.\n",
            "  _warn_prf(average, modifier, msg_start, len(result))\n",
            "/usr/local/lib/python3.10/dist-packages/sklearn/metrics/_classification.py:1344: UndefinedMetricWarning: Recall and F-score are ill-defined and being set to 0.0 in labels with no true samples. Use `zero_division` parameter to control this behavior.\n",
            "  _warn_prf(average, modifier, msg_start, len(result))\n"
          ]
        }
      ]
    }
  ]
}