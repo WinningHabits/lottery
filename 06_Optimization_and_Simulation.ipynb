{
  "nbformat": 4,
  "nbformat_minor": 0,
  "metadata": {
    "colab": {
      "provenance": [],
      "authorship_tag": "ABX9TyNTwgDzsrLjU4SaGziJEQx/",
      "include_colab_link": true
    },
    "kernelspec": {
      "name": "python3",
      "display_name": "Python 3"
    },
    "language_info": {
      "name": "python"
    }
  },
  "cells": [
    {
      "cell_type": "markdown",
      "metadata": {
        "id": "view-in-github",
        "colab_type": "text"
      },
      "source": [
        "<a href=\"https://colab.research.google.com/github/WinningHabits/lottery/blob/main/06_Optimization_and_Simulation.ipynb\" target=\"_parent\"><img src=\"https://colab.research.google.com/assets/colab-badge.svg\" alt=\"Open In Colab\"/></a>"
      ]
    },
    {
      "cell_type": "code",
      "source": [
        "import numpy as np\n",
        "import pandas as pd\n",
        "import matplotlib.pyplot as plt\n",
        "import random\n",
        "from sklearn.model_selection import train_test_split\n",
        "from sklearn.metrics import accuracy_score"
      ],
      "metadata": {
        "id": "8kwpCjEDd3tC"
      },
      "execution_count": 2,
      "outputs": []
    },
    {
      "cell_type": "code",
      "source": [
        "!pip install deap\n"
      ],
      "metadata": {
        "colab": {
          "base_uri": "https://localhost:8080/"
        },
        "id": "sjurwXLid82K",
        "outputId": "9375d10a-ad17-4c5e-869f-2dd9fcb1ded5"
      },
      "execution_count": 3,
      "outputs": [
        {
          "output_type": "stream",
          "name": "stdout",
          "text": [
            "Collecting deap\n",
            "  Downloading deap-1.4.1-cp310-cp310-manylinux_2_5_x86_64.manylinux1_x86_64.manylinux_2_17_x86_64.manylinux2014_x86_64.whl (135 kB)\n",
            "\u001b[?25l     \u001b[90m━━━━━━━━━━━━━━━━━━━━━━━━━━━━━━━━━━━━━━━━\u001b[0m \u001b[32m0.0/135.4 kB\u001b[0m \u001b[31m?\u001b[0m eta \u001b[36m-:--:--\u001b[0m\r\u001b[2K     \u001b[91m━━━━━━━━━━━━━━━━━━━━━━━━━━━━━━━━\u001b[0m\u001b[90m╺\u001b[0m\u001b[90m━━━━━━\u001b[0m \u001b[32m112.6/135.4 kB\u001b[0m \u001b[31m3.1 MB/s\u001b[0m eta \u001b[36m0:00:01\u001b[0m\r\u001b[2K     \u001b[90m━━━━━━━━━━━━━━━━━━━━━━━━━━━━━━━━━━━━━━━\u001b[0m \u001b[32m135.4/135.4 kB\u001b[0m \u001b[31m2.7 MB/s\u001b[0m eta \u001b[36m0:00:00\u001b[0m\n",
            "\u001b[?25hRequirement already satisfied: numpy in /usr/local/lib/python3.10/dist-packages (from deap) (1.23.5)\n",
            "Installing collected packages: deap\n",
            "Successfully installed deap-1.4.1\n"
          ]
        }
      ]
    },
    {
      "cell_type": "code",
      "source": [
        "# Assuming data is stored in the same GitHub repository and format as before.\n",
        "import pandas as pd\n",
        "\n",
        "url = 'https://raw.githubusercontent.com/WinningHabits/lottery_dataset/main/lottery-toto_upto_08.23_revised_1.xlsx'\n",
        "data = pd.read_excel(url)\n"
      ],
      "metadata": {
        "id": "2yprUx5SeFOH"
      },
      "execution_count": 4,
      "outputs": []
    },
    {
      "cell_type": "code",
      "source": [
        "def monte_carlo_simulation(data, num_simulations=1000):\n",
        "    outcomes = []\n",
        "    possible_numbers = list(range(1, 50))  # Assuming lottery numbers range from 1 to 49.\n",
        "\n",
        "    for _ in range(num_simulations):\n",
        "        draw = random.sample(possible_numbers, 7)  # Randomly drawing 7 numbers.\n",
        "        outcomes.append(draw)\n",
        "\n",
        "    # Convert outcomes to a DataFrame for easier analysis.\n",
        "    outcomes_df = pd.DataFrame(outcomes, columns=[f\"Draw number {i+1}\" for i in range(7)])\n",
        "    return outcomes_df\n",
        "\n",
        "simulated_outcomes = monte_carlo_simulation(data)\n"
      ],
      "metadata": {
        "id": "c7xemQRDeNFx"
      },
      "execution_count": 6,
      "outputs": []
    },
    {
      "cell_type": "code",
      "source": [
        "from deap import base, creator, tools\n",
        "\n",
        "# Create fitness and individual classes\n",
        "creator.create(\"FitnessMax\", base.Fitness, weights=(1.0,))\n",
        "creator.create(\"Individual\", list, fitness=creator.FitnessMax)\n"
      ],
      "metadata": {
        "id": "5pmxhn4mewm7"
      },
      "execution_count": 8,
      "outputs": []
    },
    {
      "cell_type": "code",
      "source": [
        "from deap import algorithms\n"
      ],
      "metadata": {
        "id": "63CECuAXe_6U"
      },
      "execution_count": 10,
      "outputs": []
    },
    {
      "cell_type": "code",
      "source": [
        "creator.create(\"FitnessMax\", base.Fitness, weights=(1.0,))\n",
        "creator.create(\"Individual\", list, fitness=creator.FitnessMax)\n",
        "\n",
        "toolbox = base.Toolbox()\n",
        "toolbox.register(\"attr_bool\", random.randint, 1, 49)  # Numbers between 1 and 49.\n",
        "toolbox.register(\"individual\", tools.initRepeat, creator.Individual, toolbox.attr_bool, n=7)\n",
        "toolbox.register(\"population\", tools.initRepeat, list, toolbox.individual)\n",
        "\n",
        "# Define the evaluation function:\n",
        "def evalOneMax(individual):\n",
        "    # For simplicity, let's return the sum of the individual's numbers.\n",
        "    # In a more sophisticated approach, you'd define a fitness function based on historical data.\n",
        "    return sum(individual),\n",
        "\n",
        "toolbox.register(\"evaluate\", evalOneMax)\n",
        "toolbox.register(\"mate\", tools.cxTwoPoint)\n",
        "toolbox.register(\"mutate\", tools.mutFlipBit, indpb=0.05)\n",
        "toolbox.register(\"select\", tools.selTournament, tournsize=3)\n",
        "\n",
        "population = toolbox.population(n=100)\n",
        "NGEN=40\n",
        "for gen in range(NGEN):\n",
        "    offspring = algorithms.varAnd(population, toolbox, cxpb=0.5, mutpb=0.2)\n",
        "    fits = toolbox.map(toolbox.evaluate, offspring)\n",
        "    for fit, ind in zip(fits, offspring):\n",
        "        ind.fitness.values = fit\n",
        "    population = toolbox.select(offspring, k=len(population))\n",
        "\n",
        "top10 = tools.selBest(population, k=10)  # Get the top 10 individuals.\n"
      ],
      "metadata": {
        "id": "5nEkMF2qfEt8"
      },
      "execution_count": 11,
      "outputs": []
    },
    {
      "cell_type": "code",
      "source": [
        "print(number_of_simulations)\n"
      ],
      "metadata": {
        "colab": {
          "base_uri": "https://localhost:8080/"
        },
        "id": "9g0ODigFhDjP",
        "outputId": "274cd8ed-8ac4-4b69-a253-7b274850aeb4"
      },
      "execution_count": 14,
      "outputs": [
        {
          "output_type": "stream",
          "name": "stdout",
          "text": [
            "10000\n"
          ]
        }
      ]
    },
    {
      "cell_type": "code",
      "source": [
        "print(possible_numbers)\n"
      ],
      "metadata": {
        "colab": {
          "base_uri": "https://localhost:8080/"
        },
        "id": "o7M7Jz6ShHf3",
        "outputId": "877eee86-78ed-41f1-8e5a-81f2e704eb60"
      },
      "execution_count": 15,
      "outputs": [
        {
          "output_type": "stream",
          "name": "stdout",
          "text": [
            "[1, 2, 3, 4, 5, 6, 7, 8, 9, 10, 11, 12, 13, 14, 15, 16, 17, 18, 19, 20, 21, 22, 23, 24, 25, 26, 27, 28, 29, 30, 31, 32, 33, 34, 35, 36, 37, 38, 39, 40, 41, 42, 43, 44, 45, 46, 47, 48, 49]\n"
          ]
        }
      ]
    },
    {
      "cell_type": "code",
      "source": [
        "import random\n",
        "\n",
        "test_draws = [random.sample(possible_numbers, 6) for _ in range(10)]\n",
        "print(test_draws)\n"
      ],
      "metadata": {
        "colab": {
          "base_uri": "https://localhost:8080/"
        },
        "id": "y9J_wsQ2hfCn",
        "outputId": "c17a9020-b502-455a-91b4-3c61da86011e"
      },
      "execution_count": 17,
      "outputs": [
        {
          "output_type": "stream",
          "name": "stdout",
          "text": [
            "[[47, 39, 8, 10, 6, 20], [38, 14, 49, 34, 30, 42], [13, 14, 27, 48, 37, 1], [38, 24, 19, 27, 15, 40], [12, 20, 36, 25, 16, 9], [7, 45, 11, 39, 1, 41], [22, 41, 33, 19, 10, 30], [7, 36, 10, 41, 44, 32], [31, 7, 29, 30, 42, 33], [38, 5, 39, 20, 28, 11]]\n"
          ]
        }
      ]
    },
    {
      "cell_type": "code",
      "source": [
        "simulated_draws = [random.sample(possible_numbers, 6) for _ in range(10000)]\n",
        "flattened_results = [num for draw in simulated_draws for num in draw]\n",
        "frequency_distribution = pd.Series(flattened_results).value_counts().sort_index()\n",
        "frequency_distribution.plot(kind='bar', figsize=(15,7))\n",
        "plt.title('Frequency Distribution from Monte Carlo Simulated Draws')\n",
        "plt.xlabel('Number')\n",
        "plt.ylabel('Frequency')\n",
        "plt.show()\n"
      ],
      "metadata": {
        "colab": {
          "base_uri": "https://localhost:8080/",
          "height": 645
        },
        "id": "Ip2hzoJ0hq8V",
        "outputId": "927f045e-4a15-4a6c-e5fd-fcb5460814a5"
      },
      "execution_count": 18,
      "outputs": [
        {
          "output_type": "display_data",
          "data": {
            "text/plain": [
              "<Figure size 1500x700 with 1 Axes>"
            ],
            "image/png": "[encoded data removed]"
          },
          "metadata": {}
        }
      ]
    },
    {
      "cell_type": "code",
      "source": [
        "top_n = 10  # or any other value you prefer\n",
        "most_common_numbers = frequency_distribution.nlargest(top_n)\n",
        "print(most_common_numbers)\n"
      ],
      "metadata": {
        "colab": {
          "base_uri": "https://localhost:8080/"
        },
        "id": "r_rk3spchwGA",
        "outputId": "28a5b64c-8095-44be-90d4-25b0543548cd"
      },
      "execution_count": 19,
      "outputs": [
        {
          "output_type": "stream",
          "name": "stdout",
          "text": [
            "1     1302\n",
            "33    1296\n",
            "46    1272\n",
            "21    1265\n",
            "4     1263\n",
            "26    1261\n",
            "39    1256\n",
            "40    1254\n",
            "43    1254\n",
            "29    1252\n",
            "dtype: int64\n"
          ]
        }
      ]
    },
    {
      "cell_type": "code",
      "source": [
        "!pip install deap\n",
        "from deap import base, creator, tools, algorithms\n",
        "import random\n"
      ],
      "metadata": {
        "colab": {
          "base_uri": "https://localhost:8080/"
        },
        "id": "zD-0gDHflm7F",
        "outputId": "4bfc1b88-feae-4bdf-ee48-3cc183b84f7f"
      },
      "execution_count": 21,
      "outputs": [
        {
          "output_type": "stream",
          "name": "stdout",
          "text": [
            "Requirement already satisfied: deap in /usr/local/lib/python3.10/dist-packages (1.4.1)\n",
            "Requirement already satisfied: numpy in /usr/local/lib/python3.10/dist-packages (from deap) (1.23.5)\n"
          ]
        }
      ]
    },
    {
      "cell_type": "code",
      "source": [
        "creator.create(\"FitnessMax\", base.Fitness, weights=(1.0,))\n",
        "creator.create(\"Individual\", list, fitness=creator.FitnessMax)\n"
      ],
      "metadata": {
        "colab": {
          "base_uri": "https://localhost:8080/"
        },
        "id": "v9k1d-pxlqT9",
        "outputId": "cbea7cbf-5a48-4e2c-9e9f-d31829829efc"
      },
      "execution_count": 22,
      "outputs": [
        {
          "output_type": "stream",
          "name": "stderr",
          "text": [
            "/usr/local/lib/python3.10/dist-packages/deap/creator.py:185: RuntimeWarning: A class named 'FitnessMax' has already been created and it will be overwritten. Consider deleting previous creation of that class or rename it.\n",
            "  warnings.warn(\"A class named '{0}' has already been created and it \"\n",
            "/usr/local/lib/python3.10/dist-packages/deap/creator.py:185: RuntimeWarning: A class named 'Individual' has already been created and it will be overwritten. Consider deleting previous creation of that class or rename it.\n",
            "  warnings.warn(\"A class named '{0}' has already been created and it \"\n"
          ]
        }
      ]
    },
    {
      "cell_type": "code",
      "source": [
        "toolbox = base.Toolbox()\n",
        "toolbox.register(\"attr_number\", random.randint, 1, 49)  # numbers from 1 to 49\n",
        "toolbox.register(\"individual\", tools.initRepeat, creator.Individual, toolbox.attr_number, n=6)\n",
        "toolbox.register(\"population\", tools.initRepeat, list, toolbox.individual)\n"
      ],
      "metadata": {
        "id": "cfTLdMfnlu4M"
      },
      "execution_count": 23,
      "outputs": []
    },
    {
      "cell_type": "code",
      "source": [
        "def evaluate(individual):\n",
        "    return sum(individual),  # Sum of the numbers in the individual\n",
        "\n",
        "toolbox.register(\"evaluate\", evaluate)\n"
      ],
      "metadata": {
        "id": "DrLQzMOXlyS9"
      },
      "execution_count": 24,
      "outputs": []
    },
    {
      "cell_type": "code",
      "source": [
        "toolbox.register(\"mate\", tools.cxOnePoint)\n",
        "toolbox.register(\"mutate\", tools.mutUniformInt, low=1, up=49, indpb=0.2)  # 20% chance per attribute to be mutated\n",
        "toolbox.register(\"select\", tools.selTournament, tournsize=3)\n"
      ],
      "metadata": {
        "id": "9rw5jEOVl1Xy"
      },
      "execution_count": 25,
      "outputs": []
    },
    {
      "cell_type": "code",
      "source": [
        "population = toolbox.population(n=300)  # e.g., 300 individuals in the population\n",
        "\n",
        "NGEN = 40  # e.g., 40 generations\n",
        "for gen in range(NGEN):\n",
        "    offspring = algorithms.varAnd(population, toolbox, cxpb=0.5, mutpb=0.2)\n",
        "    fits = toolbox.map(toolbox.evaluate, offspring)\n",
        "    for fit, ind in zip(fits, offspring):\n",
        "        ind.fitness.values = fit\n",
        "    population = toolbox.select(offspring, k=len(population))\n",
        "\n",
        "top10 = tools.selBest(population, k=10)\n"
      ],
      "metadata": {
        "id": "aaGr06W8l6qk"
      },
      "execution_count": 26,
      "outputs": []
    },
    {
      "cell_type": "code",
      "source": [
        "# Assuming you have a dictionary `number_frequencies` where keys are numbers and values are their frequencies\n",
        "def evaluate(individual):\n",
        "    return sum(number_frequencies[num] for num in individual),\n"
      ],
      "metadata": {
        "id": "VxOH7piKmP9T"
      },
      "execution_count": 28,
      "outputs": []
    }
  ]
}